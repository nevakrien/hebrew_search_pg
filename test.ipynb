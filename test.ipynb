{
 "cells": [
  {
   "cell_type": "code",
   "execution_count": 1,
   "id": "5565b498-4389-4644-936d-1ed937d31dbc",
   "metadata": {},
   "outputs": [],
   "source": [
    "import torch\n",
    "from transformers import AutoTokenizer, BertModel"
   ]
  },
  {
   "cell_type": "code",
   "execution_count": 2,
   "id": "ec211148-abb6-4bca-984c-9a6771871774",
   "metadata": {},
   "outputs": [],
   "source": [
    "import psycopg2\n",
    "from setup import conn_params,MAX_CONTEXT,MODEL_NAME"
   ]
  },
  {
   "cell_type": "code",
   "execution_count": 3,
   "id": "90187528-5757-4785-b04a-34933ad08f53",
   "metadata": {},
   "outputs": [],
   "source": [
    "import numpy as np"
   ]
  },
  {
   "cell_type": "code",
   "execution_count": 4,
   "id": "9593c842-4706-4566-a1f8-88f9e7bf5166",
   "metadata": {},
   "outputs": [
    {
     "name": "stderr",
     "output_type": "stream",
     "text": [
      "Some weights of BertModel were not initialized from the model checkpoint at avichr/Legal-heBERT and are newly initialized: ['bert.pooler.dense.weight', 'bert.pooler.dense.bias']\n",
      "You should probably TRAIN this model on a down-stream task to be able to use it for predictions and inference.\n"
     ]
    }
   ],
   "source": [
    "tokenizer=AutoTokenizer.from_pretrained(MODEL_NAME)\n",
    "model=BertModel.from_pretrained(MODEL_NAME)"
   ]
  },
  {
   "cell_type": "markdown",
   "id": "0a686bbb-f6cc-47f5-9630-ea8d76bc3275",
   "metadata": {},
   "source": [
    "# query code"
   ]
  },
  {
   "cell_type": "code",
   "execution_count": 5,
   "id": "d76721db-8bde-48d3-a8de-b0769c78f226",
   "metadata": {},
   "outputs": [],
   "source": [
    "def knn_query_postgresql(query_embedding, k=5):\n",
    "    with psycopg2.connect(**conn_params) as conn:\n",
    "        with conn.cursor() as cursor:\n",
    "            cursor.execute(\"\"\"\n",
    "                SELECT id,token_ids,embedding\n",
    "                FROM snippets\n",
    "                ORDER BY embedding <-> %s\n",
    "                LIMIT %s;\n",
    "            \"\"\", ( str(query_embedding), k))\n",
    "            return cursor.fetchall()\n"
   ]
  },
  {
   "cell_type": "code",
   "execution_count": 63,
   "id": "5acf33b5-3a08-44ef-82c0-7de3677da9a8",
   "metadata": {},
   "outputs": [],
   "source": [
    "def knn_query_documents(query_embedding, k=5):\n",
    "    with psycopg2.connect(**conn_params) as conn:\n",
    "        with conn.cursor() as cursor:\n",
    "            cursor.execute(\"\"\"\n",
    "                WITH ranked_snippets AS (\n",
    "                    SELECT\n",
    "                        s.id,\n",
    "                        s.document_id,\n",
    "                        s.text,\n",
    "                        s.embedding,\n",
    "                        s.embedding <-> %s AS distance,\n",
    "                        ROW_NUMBER() OVER(PARTITION BY s.document_id ORDER BY s.embedding <-> %s) AS snippet_rank,\n",
    "                        COUNT(*) OVER(PARTITION BY s.document_id) AS snippet_count\n",
    "                    FROM\n",
    "                        snippets AS s\n",
    "                ),\n",
    "                filtered_snippets AS (\n",
    "                    SELECT\n",
    "                        id,\n",
    "                        document_id,\n",
    "                        text,\n",
    "                        embedding,\n",
    "                        distance\n",
    "                    FROM\n",
    "                        ranked_snippets\n",
    "                    WHERE\n",
    "                        (snippet_count <= 8 AND snippet_rank <= 5) OR\n",
    "                        (snippet_count > 8 AND snippet_rank <= snippet_count - 3)\n",
    "                ),\n",
    "                avg_distance_per_document AS (\n",
    "                    SELECT\n",
    "                        document_id,\n",
    "                        AVG(distance) AS avg_distance\n",
    "                    FROM\n",
    "                        filtered_snippets\n",
    "                    GROUP BY\n",
    "                        document_id\n",
    "                ),\n",
    "                top_documents AS (\n",
    "                    SELECT\n",
    "                        document_id\n",
    "                    FROM\n",
    "                        avg_distance_per_document\n",
    "                    ORDER BY\n",
    "                        avg_distance\n",
    "                    LIMIT %s\n",
    "                ),\n",
    "                top_snippet_per_document AS (\n",
    "                    SELECT\n",
    "                        DISTINCT ON (fs.document_id)\n",
    "                        fs.id,\n",
    "                        fs.document_id,\n",
    "                        fs.text,\n",
    "                        fs.embedding\n",
    "                    FROM\n",
    "                        filtered_snippets fs\n",
    "                    INNER JOIN top_documents td ON fs.document_id = td.document_id\n",
    "                    ORDER BY\n",
    "                        fs.document_id, fs.distance\n",
    "                )\n",
    "                SELECT * FROM top_snippet_per_document;\n",
    "            \"\"\", (str(query_embedding), str(query_embedding), k))\n",
    "            return cursor.fetchall()\n"
   ]
  },
  {
   "cell_type": "markdown",
   "id": "64e8cfbe-5218-4f4a-ae9f-5570f8a5a505",
   "metadata": {},
   "source": [
    "# test"
   ]
  },
  {
   "cell_type": "code",
   "execution_count": 64,
   "id": "ac16f876-3e36-40e8-ad0f-c109863e6cb7",
   "metadata": {},
   "outputs": [
    {
     "name": "stdout",
     "output_type": "stream",
     "text": [
      "תיק דניאל פרידמן נגד יואב גלנט: דיון בשאלת המינוי של יואב גלנט לרמטכ\"ל צה\"ל.\n"
     ]
    }
   ],
   "source": [
    "#test_text=\"שוחד, מרמה והפרת אמונים\"\n",
    "# test_text=\"\"\"סימן ב׳: בגידה\n",
    "# 97.\n",
    "# פגיעה בריבונות המדינה או בשלמותה [ד/7]\n",
    "# (א)\n",
    "# מי שעשה, בכוונה לפגוע בריבונותה של המדינה, מעשה שיש בו כדי לפגוע בריבונותה, דינו – מיתה או מאסר עולם.\n",
    "# (ב)\n",
    "# מי שעשה, בכוונה ששטח כלשהו יצא מריבונותה של המדינה או ייכנס לריבונותה של מדינת חוץ, מעשה שיש בו כדי להביא לכך, דינו – מיתה או מאסר עולם.\n",
    "# 98.\n",
    "# גרם למלחמה [ד/8]\n",
    "# מי שעשה, בכוונה להביא לידי פעולה צבאית נגד ישראל, מעשה שיש בו כדי להביא לכך, דינו – מאסר חמש עשרה שנה; התכוון לסייע לאויב, דינו – מיתה או מאסר עולם.\n",
    "# 99.\n",
    "# סיוע לאויב במלחמה [ד/9]\n",
    "# (א)\n",
    "# מי שעשה, בכוונה לסייע לאויב במלחמתו נגד ישראל, מעשה שיש בו כדי לסייעו לכך, דינו – מיתה או מאסר עולם.\n",
    "# (ב)\n",
    "# לענין סעיף זה, ”סיוע“ – לרבות מסירת ידיעה בכוונה שתגיע לידי האויב או ביודעין שהיא עשויה להגיע לידי האויב, ואין נפקא מינה שבעת מסירתה לא התנהלה מלחמה.\n",
    "# 100.\n",
    "# גילוי החלטה לבגוד [ד/10]\n",
    "# מי שעשה מעשה המגלה אחת הכוונות האמורות בסעיפים 97, 98 או 99, דינו – מאסר עשר שנים.\n",
    "# 101.\n",
    "# שירות בכוחות האויב [ד/11]\n",
    "# אזרח ישראלי וכל אדם אחר החייב בנאמנות למדינת ישראל, בין באשר הוא חייב בשירות בטחון לפי חוק שירות בטחון, תשי״ט–1959 [נוסח משולב], ובין באשר שירת בשירות המדינה, והוא שירת בכוחות המזויינים של האויב, דינו – מאסר חמש עשרה שנה.\n",
    "# 102.\n",
    "# סיוע לשבוי מלחמה [ד/12]\n",
    "# (א)\n",
    "# מי שסייע בידי שבוי מלחמה להימלט או לנסות להימלט ממקום כליאתו או מישראל, דינו – מאסר עשר שנים; התכוון לפגוע בבטחון המדינה, דינו – מאסר חמש עשרה שנה.\n",
    "# (ב)\n",
    "# מי שהתרשל בתפקידו למנוע בריחת שבוי מלחמה, דינו – מאסר שלוש שנים.\n",
    "# 103.\n",
    "# תעמולה תבוסנית [ד/13]\n",
    "# מי שהפיץ בשעת לחימה, ובכוונה לגרום בהלה בציבור, ידיעות שיש בהן כדי לערער את רוח חיילי ישראל ותושביה בעמידתם בפני האויב, דינו – מאסר חמש שנים; התכוון לפגוע בבטחון המדינה, דינו – מאסר עשר שנים. \"\"\"\n",
    "\n",
    "# test_text=\"\"\"סימן ה׳: עבירות מין\n",
    "# 345.\n",
    "# אינוס [תיקון: תשמ״ח־2, תש״ן־6, תש״ס־4, תשס״א־6]\n",
    "# (א)\n",
    "# הבועל אשה –\n",
    "# (1)\n",
    "# שלא בהסכמתה החופשית;\n",
    "# (2)\n",
    "# בהסכמת האשה, שהושגה במרמה לגבי מיהות העושה או מהות המעשה;\n",
    "# (3)\n",
    "# כשהאשה היא קטינה שטרם מלאו לה ארבע עשרה שנים, אף בהסכמתה; או\n",
    "# (4)\n",
    "# תוך ניצול מצב של חוסר הכרה בו שרויה האשה, או מצב אחר המונע ממנה לתת הסכמה חופשית;\n",
    "# (5)\n",
    "# תוך ניצול היותה חולת נפש או לקויה בשכלה, אם בשל מחלתה או בשל הליקוי בשכלה לא היתה הסכמתה לבעילה הסכמה חופשית;\n",
    "# הרי הוא אונס ודינו – מאסר שש עשרה שנים.\n",
    "# (ב)\n",
    "# על אף האמור בסעיף קטן (א), דין האונס – מאסר עשרים שנים אם האינוס נעשה באחת מנסיבות אלה:\n",
    "# (1)\n",
    "# בקטינה שטרם מלאו לה שש עשרה שנים ובנסיבות האמורות בסעיף קטן (א)(1), (2), (4) או (5);\n",
    "# (2)\n",
    "# באיום בנשק חם או קר;\n",
    "# (3)\n",
    "# תוך גרימת חבלה גופנית או נפשית או הריון;\n",
    "# (4)\n",
    "# תוך התעללות באשה, לפני המעשה, בזמן המעשה או אחריו;\n",
    "# (5)\n",
    "# בנוכחות אחר או אחרים שחברו יחד עמו לביצוע האינוס בידי אחד או אחדים מהם.\n",
    "# (ג)\n",
    "# בסימן זה –\n",
    "# ”בועל“ – המחדיר איבר מאיברי הגוף או חפץ לאיבר המין של האישה;\n",
    "# ”קטין“ – (נמחקה). \"\"\" \n",
    "# test_text=\"\"\"\n",
    "# סימן ו׳: עבירות מרמה, סחיטה ועושק\n",
    "# 414.\n",
    "# הגדרות [ח/1]\n",
    "# בסימן זה –\n",
    "# ”דבר“ – מקרקעין, מיטלטלין, זכות וטובת הנאה;\n",
    "# ”מרמה“ – טענת עובדה בענין שבעבר, בהווה או בעתיד, הנטענת בכתב, בעל פה או בהתנהגות, ואשר הטוען אותה יודע שאינה אמת או שאינו מאמין שהיא אמת; ו”לרמות“ – להביא אדם במרמה לידי מעשה או מחדל;\n",
    "# ”מסמך“ – תעודה שבכתב, וכל אמצעי אחר, בין בכתב ובין בצורה אחרת, העשוי לשמש ראיה;\n",
    "# ”זיוף“ – אחת מאלה:\n",
    "# (1)\n",
    "# עשיית מסמך הנחזה להיות את אשר איננו, והוא עשוי להטעות;\n",
    "# (2)\n",
    "# שינוי מסמך – לרבות הוספת פרט או השמטת פרט – בכוונה לרמות, או ללא סמכות כדין ובאופן הנחזה כאילו נעשה השינוי בסמכות כדין;\n",
    "# (3)\n",
    "# חתימת מסמך בשם פלוני ללא סמכות כדין, או בשם מדומה, באופן העשוי להיחזות כאילו נחתם המסמך בידי פלוני;\n",
    "# ”שיק“ – כמשמעותו בפקודת השטרות, לרבות שטר חליפין משוך על אגודה שיתופית לאשראי שהוא בר פרעון עם דרישה;\n",
    "# ”בנקאי“ – האדם שעליו משוך השיק.\n",
    "# 415.\n",
    "# קבלת דבר במרמה [ח/2]\n",
    "# המקבל דבר במרמה, דינו – מאסר שלוש שנים, ואם נעברה העבירה בנסיבות מחמירות, דינו – מאסר חמש שנים.\n",
    "# 416.\n",
    "# תחבולה [ח/3]\n",
    "# המקבל דבר בתחבולה או בניצול מכוון של טעות הזולת שאין בהם מרמה, דינו – מאסר שנתיים.\n",
    "# 417.\n",
    "# כישוף [ח/4]\n",
    "# (א)\n",
    "# המתחזה לעשות מעשה כישוף בכוונה לקבל דבר, דינו – מאסר שנתיים; קיבל דבר בעד מעשה הכישוף או על פיו, דינו – מאסר שלוש שנים; לענין סעיף זה, ”כישוף“ – לרבות מעשה קוסם והגדת עתידות.\n",
    "# (ב)\n",
    "# הוראות סעיף קטן (א) לא יחולו על מעשה קוסם או הגדת עתידות שאינם חורגים מגדר שעשוע או בידור, והשעשוע או הבידור ניתנים ללא תמורה, או שתמורתם היא מחיר הכניסה בלבד למקום עריכתם.\n",
    "# 418.\n",
    "# זיוף [ח/5]\n",
    "# המזייף מסמך, דינו – מאסר שנה; זייף מסמך בכוונה לקבל באמצעותו דבר, דינו – מאסר שלוש שנים; ואם נעברה העבירה בנסיבות מחמירות, דינו – מאסר חמש שנים.\n",
    "# 419.\n",
    "# זיוף המשפיע על עסקאות [ח/6]\n",
    "# המזייף מסמך שיש בו ידיעה על אדם או על תאגיד בכוונה לרמות, דינו – מאסר שלוש שנים; אין נפקא מינה, לענין זה, אם האדם או התאגיד היו קיימים או לא ואם התאגיד עמד להיווסד אך לא נוסד.\n",
    "# 420.\n",
    "# שימוש במסמך מזוייף [ח/7]\n",
    "# המגיש או מנפק מסמך מזוייף או משתמש בו בדרך אחרת, בידעו שהוא מזוייף, דינו כדין מזייף המסמך.\n",
    "# 421.\n",
    "# זיוף בידי עובד הציבור [ח/8]\n",
    "# עובד הציבור המזייף מסמך שהוא ממונה על עשייתו או על שמירתו, או שיש לו גישה אליו בתוקף תפקידו, דינו – מאסר שלוש שנים עם או בלי קנס; עשה כן בכוונה לקבל דבר, דינו – מאסר חמש שנים עם או בלי קנס; קיבל דבר באמצעות מסמך מזוייף כאמור, דינו – מאסר שבע שנים עם או בלי קנס.\n",
    "# 422.\n",
    "# שידולי מרמה [ח/9]\n",
    "# המשדל אדם במרמה לעשות מסמך או לחתום עליו או להשיג חתימת אדם אחר או חותמת על מסמך, דינו כדין מזייף ודין המסמך כדין מסמך מזוייף; המשדל אדם במרמה להשמיד מסמך ויש בכך כדי לגרום לו הפסד דבר, דינו כדין המקבל דבר במרמה; אין הוראות אלה באות לגרוע מהוראת כל דין אחר בענין שידול.\n",
    "# 423.\n",
    "# רישום כוזב במסמכי תאגיד [ח/9א] [תיקון: [תש״ל], [תשל״ה]]\n",
    "# מייסד, מנהל, חבר או פקיד של תאגיד, הרושם, או גורם לרישום, פרט כוזב במסמך של התאגיד, בכוונה לרמות, או נמנע מלרשום בו פרט אשר היה עליו לרשמו, בכוונה לרמות, דינו – מאסר חמש שנים; לענין סעיף זה, וסעיפים 424 ו־425, ”תאגיד“ – לרבות תאגיד העומד להיווסד.\n",
    "# \"\"\"\n",
    "test_text=\"\"\"תיק דניאל פרידמן נגד יואב גלנט: דיון בשאלת המינוי של יואב גלנט לרמטכ\"ל צה\"ל.\"\"\"\n",
    "print(test_text)"
   ]
  },
  {
   "cell_type": "code",
   "execution_count": 65,
   "id": "4177dbd2-6655-4267-82ce-db389875eeb2",
   "metadata": {},
   "outputs": [],
   "source": [
    "with torch.no_grad():\n",
    "    inputs=tokenizer(test_text,return_tensors='pt',truncation=True,max_length=model.config.max_position_embeddings)\n",
    "    inputs={k:v.to(model.device) for k,v in inputs.items()}\n",
    "    key=model(**inputs).last_hidden_state.mean([1]).cpu().tolist()"
   ]
  },
  {
   "cell_type": "code",
   "execution_count": 66,
   "id": "75329835-bcb5-4bc0-8745-7796802eb4f3",
   "metadata": {},
   "outputs": [],
   "source": [
    "#ans=knn_query_postgresql(key[0],3)\n",
    "ans=knn_query_documents(key[0],3)"
   ]
  },
  {
   "cell_type": "code",
   "execution_count": 67,
   "id": "b8665497-276f-40ec-889b-a359b3824817",
   "metadata": {},
   "outputs": [
    {
     "name": "stdout",
     "output_type": "stream",
     "text": [
      "1\n"
     ]
    },
    {
     "data": {
      "text/plain": [
       "['##¢þ', '', '']"
      ]
     },
     "execution_count": 67,
     "metadata": {},
     "output_type": "execute_result"
    }
   ],
   "source": [
    "texts=[tokenizer.decode(l[1]) for l in ans]\n",
    "print(len(texts)-len(set(texts)))\n",
    "texts"
   ]
  },
  {
   "cell_type": "code",
   "execution_count": null,
   "id": "eb95a1f3-288c-4ef3-aaf2-c006a2f459ef",
   "metadata": {},
   "outputs": [],
   "source": []
  }
 ],
 "metadata": {
  "kernelspec": {
   "display_name": "Python 3 (ipykernel)",
   "language": "python",
   "name": "python3"
  },
  "language_info": {
   "codemirror_mode": {
    "name": "ipython",
    "version": 3
   },
   "file_extension": ".py",
   "mimetype": "text/x-python",
   "name": "python",
   "nbconvert_exporter": "python",
   "pygments_lexer": "ipython3",
   "version": "3.11.5"
  }
 },
 "nbformat": 4,
 "nbformat_minor": 5
}
